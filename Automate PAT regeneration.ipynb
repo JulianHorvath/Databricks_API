{
 "cells": [
  {
   "cell_type": "code",
   "execution_count": 0,
   "metadata": {
    "application/vnd.databricks.v1+cell": {
     "cellMetadata": {},
     "inputWidgets": {},
     "nuid": "83279295-7700-499f-be24-d8e1d87765bf",
     "showTitle": false,
     "tableResultSettingsMap": {},
     "title": ""
    }
   },
   "outputs": [],
   "source": [
    "!pip install requests"
   ]
  },
  {
   "cell_type": "code",
   "execution_count": 0,
   "metadata": {
    "application/vnd.databricks.v1+cell": {
     "cellMetadata": {
      "byteLimit": 2048000,
      "rowLimit": 10000
     },
     "inputWidgets": {},
     "nuid": "9b0c5e51-62bd-4348-b77e-9dcfbf0f760b",
     "showTitle": false,
     "tableResultSettingsMap": {},
     "title": ""
    }
   },
   "outputs": [],
   "source": [
    "import requests\n",
    "from pyspark.sql.types import StructType, StructField, StringType, DateType, TimestampType\n",
    "from pyspark.sql import Row"
   ]
  },
  {
   "cell_type": "code",
   "execution_count": 0,
   "metadata": {
    "application/vnd.databricks.v1+cell": {
     "cellMetadata": {},
     "inputWidgets": {},
     "nuid": "85bebcfd-94c4-4848-b16a-a70a17f79a6b",
     "showTitle": false,
     "tableResultSettingsMap": {},
     "title": ""
    }
   },
   "outputs": [],
   "source": [
    "# Run code from package definition\n",
    "%run /Path/To/Your/Package # being Package your .py file"
   ]
  },
  {
   "cell_type": "markdown",
   "metadata": {
    "application/vnd.databricks.v1+cell": {
     "cellMetadata": {},
     "inputWidgets": {},
     "nuid": "50afdca6-97ed-4778-953e-3b8eae751db8",
     "showTitle": false,
     "tableResultSettingsMap": {},
     "title": ""
    }
   },
   "source": [
    "### PAT creation"
   ]
  },
  {
   "cell_type": "code",
   "execution_count": 0,
   "metadata": {
    "application/vnd.databricks.v1+cell": {
     "cellMetadata": {
      "byteLimit": 2048000,
      "rowLimit": 10000
     },
     "inputWidgets": {},
     "nuid": "b23eff96-3bd8-41cb-9a5b-7d14a9e590d4",
     "showTitle": false,
     "tableResultSettingsMap": {},
     "title": ""
    }
   },
   "outputs": [],
   "source": [
    "# API call\n",
    "workspace_url = '' # \"https://<xxx-xxxxxxxx-xxxx>.cloud.databricks.com\"\n",
    "token = dbutils.secrets.get(scope=\"<scope_name>\", key=\"<key_name>\")\n",
    "payload = {\"comment\": \"Recreated token\"}\n",
    "\n",
    "token_value, token_id, expiry_timestamp = dbx_api.create_token(workspace_url, token, payload)"
   ]
  },
  {
   "cell_type": "markdown",
   "metadata": {
    "application/vnd.databricks.v1+cell": {
     "cellMetadata": {},
     "inputWidgets": {},
     "nuid": "0e8b1807-82e7-4d75-bcad-c3ca3fb11029",
     "showTitle": false,
     "tableResultSettingsMap": {},
     "title": ""
    }
   },
   "source": [
    "### PUT token as Secret in Scope"
   ]
  },
  {
   "cell_type": "code",
   "execution_count": 0,
   "metadata": {
    "application/vnd.databricks.v1+cell": {
     "cellMetadata": {
      "byteLimit": 2048000,
      "rowLimit": 10000
     },
     "inputWidgets": {},
     "nuid": "abce3f54-4939-4585-906a-c1a656fa314d",
     "showTitle": false,
     "tableResultSettingsMap": {},
     "title": ""
    }
   },
   "outputs": [],
   "source": [
    "# API call\n",
    "payload = {\"scope\": \"<scope_name>\", \"key\": \"<key_name>\", \"string_value\": token_value}\n",
    "\n",
    "dbx_api.put_secret(workspace_url, token_value, payload)"
   ]
  },
  {
   "cell_type": "markdown",
   "metadata": {
    "application/vnd.databricks.v1+cell": {
     "cellMetadata": {},
     "inputWidgets": {},
     "nuid": "3cbf4aa9-dd78-49e2-ae4b-0ab9e1cb3fdd",
     "showTitle": false,
     "tableResultSettingsMap": {},
     "title": ""
    }
   },
   "source": [
    "### Update Job Schedule Refresh based on new PAT's expiry date"
   ]
  },
  {
   "cell_type": "code",
   "execution_count": 0,
   "metadata": {
    "application/vnd.databricks.v1+cell": {
     "cellMetadata": {
      "byteLimit": 2048000,
      "rowLimit": 10000
     },
     "inputWidgets": {},
     "nuid": "54a5c1cf-48fb-4bf9-bf81-ff4462160d5c",
     "showTitle": false,
     "tableResultSettingsMap": {},
     "title": ""
    }
   },
   "outputs": [],
   "source": [
    "# API call\n",
    "regenerate_timestamp = expiry_timestamp - timedelta(days=1)\n",
    "updated_quartz_cron = f\"0 {regenerate_timestamp.minute} {regenerate_timestamp.hour} {regenerate_timestamp.day} {regenerate_timestamp.month} ? {regenerate_timestamp.year}\"\n",
    "payload = {\"job_id\": 111111111111111, # job id as integer\n",
    "           \"new_settings\": {\"schedule\": {\"quartz_cron_expression\": updated_quartz_cron, \"timezone_id\": \"America/Buenos_Aires\"}\n",
    "                            }\n",
    "           }\n",
    "\n",
    "dbx_api.update_job(workspace_url, token_value, payload)"
   ]
  },
  {
   "cell_type": "markdown",
   "metadata": {
    "application/vnd.databricks.v1+cell": {
     "cellMetadata": {},
     "inputWidgets": {},
     "nuid": "72765c9d-796f-4a16-baba-bb522bf6a764",
     "showTitle": false,
     "tableResultSettingsMap": {},
     "title": ""
    }
   },
   "source": [
    "### Alert on expiry date"
   ]
  },
  {
   "cell_type": "code",
   "execution_count": 0,
   "metadata": {
    "application/vnd.databricks.v1+cell": {
     "cellMetadata": {
      "byteLimit": 2048000,
      "rowLimit": 10000
     },
     "inputWidgets": {},
     "nuid": "5a3bb997-d8fb-4bc1-b938-9fdad067564f",
     "showTitle": false,
     "tableResultSettingsMap": {},
     "title": ""
    }
   },
   "outputs": [],
   "source": [
    "data = [Row(asset=\"<token_name>\", expiry_timestamp=expiry_timestamp, alert_date=regenerate_timestamp.date(), alert_timestamp=regenerate_timestamp)]\n",
    "schema = StructType(\n",
    "            [StructField(\"asset\", StringType()),\n",
    "             StructField(\"expiry_timestamp\", TimestampType()),\n",
    "             StructField(\"alert_date\", DateType()),\n",
    "             StructField(\"alert_timestamp\", TimestampType())\n",
    "            ])\n",
    "df_alert = spark.createDataFrame(data, schema)\n",
    "df_alert.createOrReplaceTempView(\"df_alert\")"
   ]
  },
  {
   "cell_type": "code",
   "execution_count": 0,
   "metadata": {
    "application/vnd.databricks.v1+cell": {
     "cellMetadata": {
      "byteLimit": 2048000,
      "rowLimit": 10000
     },
     "inputWidgets": {},
     "nuid": "f367827e-087b-4c11-a282-8b045369592b",
     "showTitle": false,
     "tableResultSettingsMap": {},
     "title": ""
    }
   },
   "outputs": [],
   "source": [
    "# Overwrite alerts table\n",
    "df_alert.write.format(\"delta\") \\\n",
    "              .mode(\"overwrite\") \\\n",
    "              .option(\"mergeSchema\", \"true\") \\\n",
    "              .saveAsTable(\"<catalog>.<schema>.alerts\")"
   ]
  },
  {
   "cell_type": "code",
   "execution_count": 0,
   "metadata": {
    "application/vnd.databricks.v1+cell": {
     "cellMetadata": {},
     "inputWidgets": {},
     "nuid": "1242dd04-78d5-4510-b77e-1be31fc33247",
     "showTitle": false,
     "tableResultSettingsMap": {},
     "title": ""
    }
   },
   "outputs": [],
   "source": [
    "# API call\n",
    "# updates alert trigger only on new regeneration date\n",
    "alert_id = \"\" # retrieve it from its URL\n",
    "alert_quartz_cron = f\"0 0 0 {regenerate_timestamp.day} {regenerate_timestamp.month} ? {regenerate_timestamp.year}\"\n",
    "payload = {\"schedule\": {\"pause_status\": \"UNPAUSED\", \"quartz_cron_schedule\": alert_quartz_cron, \"timezone_id\": \"America/Buenos_Aires\"\n",
    "                        }\n",
    "           }\n",
    "\n",
    "update_alert(workspace_url, alert_id, token_value, payload)"
   ]
  },
  {
   "cell_type": "markdown",
   "metadata": {
    "application/vnd.databricks.v1+cell": {
     "cellMetadata": {},
     "inputWidgets": {},
     "nuid": "4fe96f9c-398f-44fa-aad3-5cc77f81b978",
     "showTitle": false,
     "tableResultSettingsMap": {},
     "title": ""
    }
   },
   "source": [
    "-- Query for Alert\n",
    "SELECT *\n",
    "FROM catalog.schema.alerts\n",
    "WHERE alert_date = current_date()"
   ]
  }
 ],
 "metadata": {
  "application/vnd.databricks.v1+notebook": {
   "computePreferences": null,
   "dashboards": [],
   "environmentMetadata": {
    "base_environment": "",
    "environment_version": "3"
   },
   "inputWidgetPreferences": null,
   "language": "python",
   "notebookMetadata": {
    "mostRecentlyExecutedCommandWithImplicitDF": {
     "commandId": 5325767920497126,
     "dataframes": [
      "_sqldf"
     ]
    },
    "pythonIndentUnit": 4
   },
   "notebookName": "Automate PAT regeneration",
   "widgets": {}
  },
  "language_info": {
   "name": "python"
  }
 },
 "nbformat": 4,
 "nbformat_minor": 0
}